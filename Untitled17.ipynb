{
  "nbformat": 4,
  "nbformat_minor": 0,
  "metadata": {
    "colab": {
      "name": "Untitled17.ipynb",
      "provenance": []
    },
    "kernelspec": {
      "name": "python3",
      "display_name": "Python 3"
    },
    "language_info": {
      "name": "python"
    }
  },
  "cells": [
    {
      "cell_type": "code",
      "execution_count": 1,
      "metadata": {
        "id": "KrL1Qgo-cbTc",
        "outputId": "06334230-5491-43ef-df5c-b542bc225409",
        "colab": {
          "base_uri": "https://localhost:8080/"
        }
      },
      "outputs": [
        {
          "output_type": "stream",
          "name": "stdout",
          "text": [
            "The original array is:  [7, 2, 5, 6, 3, 1, 8, 4]\n",
            "Array after sorting is:  [1, 2, 3, 4, 5, 6, 7, 8]\n"
          ]
        }
      ],
      "source": [
        "def heapify(array, a, b):\n",
        "\tlargest = b \n",
        "\tl = 2 * b + 1\n",
        "\troot = 2 * b + 2\t \n",
        "\n",
        "\tif l < a and array[b] < array[l]:\n",
        "\t\tlargest = l\n",
        "\n",
        "\tif root < a and array[largest] < array[root]:\n",
        "\t\tlargest = root\n",
        "\n",
        "\t# Change root\n",
        "\tif largest != b:\n",
        "\t    array[b], array[largest] = array[largest], array[b]\n",
        "\t    heapify(array, a, largest)\n",
        "\n",
        "# sort an array of given size\n",
        "def Heap_Sort(array):\n",
        "\ta = len(array)\n",
        "\n",
        "\t# maxheap..\n",
        "\tfor b in range(a // 2 - 1, -1, -1):\n",
        "\t\theapify(array, a, b)\n",
        "\n",
        "\t# extract elements\n",
        "\tfor b in range(a-1, 0, -1):\n",
        "\t\tarray[b], array[0] = array[0], array[b] # swap\n",
        "\t\theapify(array, b, 0)\n",
        "\n",
        "# Driver code \n",
        "array = [ 7, 2, 5, 6, 3, 1, 8, 4]\n",
        "print(\"The original array is: \", array)\n",
        "Heap_Sort(array)\n",
        "a = len(array)\n",
        "print (\"Array after sorting is: \", array)"
      ]
    }
  ]
}